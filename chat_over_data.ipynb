{
  "nbformat": 4,
  "nbformat_minor": 0,
  "metadata": {
    "colab": {
      "provenance": []
    },
    "kernelspec": {
      "name": "python3",
      "display_name": "Python 3"
    },
    "language_info": {
      "name": "python"
    }
  },
  "cells": [
    {
      "cell_type": "code",
      "execution_count": null,
      "metadata": {
        "colab": {
          "base_uri": "https://localhost:8080/"
        },
        "id": "P2_zbHXUyDFT",
        "outputId": "56681ed2-5e73-4f99-8b0f-67a48fac8b93"
      },
      "outputs": [
        {
          "output_type": "stream",
          "name": "stdout",
          "text": [
            "\u001b[2K     \u001b[90m━━━━━━━━━━━━━━━━━━━━━━━━━━━━━━━━━━━━━━━━\u001b[0m \u001b[32m1.8/1.8 MB\u001b[0m \u001b[31m17.0 MB/s\u001b[0m eta \u001b[36m0:00:00\u001b[0m\n",
            "\u001b[2K     \u001b[90m━━━━━━━━━━━━━━━━━━━━━━━━━━━━━━━━━━━━━━━━\u001b[0m \u001b[32m457.9/457.9 kB\u001b[0m \u001b[31m44.2 MB/s\u001b[0m eta \u001b[36m0:00:00\u001b[0m\n",
            "\u001b[2K     \u001b[90m━━━━━━━━━━━━━━━━━━━━━━━━━━━━━━━━━━━━━━━━\u001b[0m \u001b[32m274.7/274.7 kB\u001b[0m \u001b[31m31.9 MB/s\u001b[0m eta \u001b[36m0:00:00\u001b[0m\n",
            "\u001b[2K     \u001b[90m━━━━━━━━━━━━━━━━━━━━━━━━━━━━━━━━━━━━━━━━\u001b[0m \u001b[32m981.5/981.5 kB\u001b[0m \u001b[31m66.9 MB/s\u001b[0m eta \u001b[36m0:00:00\u001b[0m\n",
            "\u001b[?25h  Preparing metadata (setup.py) ... \u001b[?25l\u001b[?25hdone\n",
            "\u001b[2K     \u001b[90m━━━━━━━━━━━━━━━━━━━━━━━━━━━━━━━━━━━━━━━━\u001b[0m \u001b[32m3.4/3.4 MB\u001b[0m \u001b[31m86.9 MB/s\u001b[0m eta \u001b[36m0:00:00\u001b[0m\n",
            "\u001b[?25h  Building wheel for langdetect (setup.py) ... \u001b[?25l\u001b[?25hdone\n"
          ]
        }
      ],
      "source": [
        "!pip install langchain langchain-openai openai pinecone-client tiktoken unstructured -q"
      ]
    },
    {
      "cell_type": "code",
      "source": [
        "import shutil\n",
        "\n",
        "# Extracting essays from zip file to a folder\n",
        "shutil.unpack_archive(\n",
        "        filename=\"/content/PaulGraham.zip\", extract_dir=\"/content/\", format=\"zip\"\n",
        "    )"
      ],
      "metadata": {
        "id": "TObceoVn8656"
      },
      "execution_count": null,
      "outputs": []
    },
    {
      "cell_type": "code",
      "source": [
        "from langchain_community.document_loaders import DirectoryLoader\n",
        "\n",
        "# Loading essay files using unstructured.io loader\n",
        "essays = DirectoryLoader(\"/content/PaulGraham\").load()\n",
        "\n",
        "len(essays)"
      ],
      "metadata": {
        "id": "6SePG3XzyP7C",
        "colab": {
          "base_uri": "https://localhost:8080/"
        },
        "outputId": "9434a791-d6ea-4229-e148-6cc20e9ad0e1"
      },
      "execution_count": null,
      "outputs": [
        {
          "output_type": "execute_result",
          "data": {
            "text/plain": [
              "212"
            ]
          },
          "metadata": {},
          "execution_count": 14
        }
      ]
    },
    {
      "cell_type": "code",
      "source": [
        "# Average Length of essay files, or each Document object.\n",
        "\n",
        "sum([len(essay.page_content) for essay in essays])//len(essays)"
      ],
      "metadata": {
        "colab": {
          "base_uri": "https://localhost:8080/"
        },
        "id": "kkUtrPajIlaO",
        "outputId": "9ee412a3-79e9-465e-8c0e-efb97656056f"
      },
      "execution_count": null,
      "outputs": [
        {
          "output_type": "execute_result",
          "data": {
            "text/plain": [
              "13631"
            ]
          },
          "metadata": {},
          "execution_count": 19
        }
      ]
    },
    {
      "cell_type": "code",
      "source": [
        "# max Length of an essay file, or each Document object.\n",
        "\n",
        "max([len(essay.page_content) for essay in essays])"
      ],
      "metadata": {
        "id": "Z40nek__4cD3",
        "colab": {
          "base_uri": "https://localhost:8080/"
        },
        "outputId": "bf6eafa3-461e-4083-d5a8-8c78ccef49ad"
      },
      "execution_count": null,
      "outputs": [
        {
          "output_type": "execute_result",
          "data": {
            "text/plain": [
              "74890"
            ]
          },
          "metadata": {},
          "execution_count": 20
        }
      ]
    },
    {
      "cell_type": "code",
      "source": [
        "from langchain.text_splitter import RecursiveCharacterTextSplitter\n",
        "\n",
        "# To recursively separate firstly with paragraph,\n",
        "# if there's no paragraph split it looks for a next line,\n",
        "# if no line split exists, it looks for a space \" \"\n",
        "text_splitter = RecursiveCharacterTextSplitter(\n",
        "    separators=[\"\\n\\n\", \"\\n\", \" \"],\n",
        "    chunk_size=3500, # splits after every 3500 characters.\n",
        ")\n",
        "\n",
        "splitted_essays = text_splitter.split_documents(essays)\n",
        "\n",
        "len(splitted_essays)"
      ],
      "metadata": {
        "colab": {
          "base_uri": "https://localhost:8080/"
        },
        "id": "GbuQObdZEjfw",
        "outputId": "f6f178b7-7e14-4e87-85f0-fb4f0831c0f3"
      },
      "execution_count": null,
      "outputs": [
        {
          "output_type": "execute_result",
          "data": {
            "text/plain": [
              "1060"
            ]
          },
          "metadata": {},
          "execution_count": 21
        }
      ]
    },
    {
      "cell_type": "code",
      "source": [
        "from getpass import getpass\n",
        "\n",
        "OPENAI_API_KEY=getpass(\"Enter OpenAI key: \")\n",
        "PINECONE_API_KEY=getpass(\"Enter pinecone key: \")"
      ],
      "metadata": {
        "colab": {
          "base_uri": "https://localhost:8080/"
        },
        "id": "rSQe9kq2QcCI",
        "outputId": "d9edec0e-b30c-4451-a7d0-596cea5f2a80"
      },
      "execution_count": null,
      "outputs": [
        {
          "name": "stdout",
          "output_type": "stream",
          "text": [
            "Enter OpenAI key: ··········\n",
            "Enter pinecone key: ··········\n"
          ]
        }
      ]
    },
    {
      "cell_type": "code",
      "source": [
        "import pinecone\n",
        "from langchain.vectorstores.pinecone import Pinecone\n",
        "from langchain_openai.embeddings import OpenAIEmbeddings\n",
        "\n",
        "# Loading our embedding model\n",
        "embedding_model = OpenAIEmbeddings(openai_api_key=OPENAI_API_KEY)\n",
        "\n",
        "# Initializing pinecone client\n",
        "pc = pinecone.Pinecone(\n",
        "            api_key=PINECONE_API_KEY, pool_threads=20\n",
        "        )\n",
        "\n",
        "index = pc.Index(\"essays\")"
      ],
      "metadata": {
        "id": "UG_WKGJ5E9bo"
      },
      "execution_count": null,
      "outputs": []
    },
    {
      "cell_type": "code",
      "source": [
        "from itertools import islice\n",
        "from typing import Iterable, Iterator, List, TypeVar\n",
        "\n",
        "T = TypeVar(\"T\")\n",
        "\n",
        "def batch_iterate(size: int, iterable: Iterable[T]) -> Iterator[List[T]]:\n",
        "    \"\"\"Utility batching function.\"\"\"\n",
        "    it = iter(iterable)\n",
        "    while True:\n",
        "        chunk = list(islice(it, size))\n",
        "        if not chunk:\n",
        "            return\n",
        "        yield chunk\n",
        "\n",
        "embedding_chunk_size = 1500\n",
        "batch_size = 70 # size of batch (length of chunks in one go.)\n",
        "\n",
        "texts = [chunk.page_content for chunk in splitted_essays]\n",
        "metadata_list = [chunk.metadata for chunk in splitted_essays]\n",
        "ids = [str(i) for i in range(len(texts))]\n",
        "\n",
        "for metadata, text in zip(metadata_list, texts):\n",
        "    metadata[\"text\"] = text\n",
        "\n",
        "for i in range(0, len(texts), embedding_chunk_size):\n",
        "    chunk_texts = texts[i : i + embedding_chunk_size]\n",
        "    chunk_ids = ids[i : i + embedding_chunk_size]\n",
        "    chunk_metadatas = metadata_list[i : i + embedding_chunk_size]\n",
        "    embeddings = embedding_model.embed_documents(chunk_texts)\n",
        "\n",
        "    # uploading asynchronously\n",
        "    async_res = [\n",
        "        index.upsert(\n",
        "            vectors=batch,\n",
        "            async_req=True,\n",
        "        )\n",
        "        for batch in batch_iterate(\n",
        "            batch_size, zip(chunk_ids, embeddings, chunk_metadatas)\n",
        "        )\n",
        "    ]\n",
        "    [res.get() for res in async_res]"
      ],
      "metadata": {
        "id": "aZDsoBNsTp1s"
      },
      "execution_count": null,
      "outputs": []
    },
    {
      "cell_type": "code",
      "source": [
        "def query_pinecone(query: str, top_k: int = 4) -> dict:\n",
        "    \"\"\"\n",
        "    Query the Pinecone index with the given parameters.\n",
        "\n",
        "    Parameters:\n",
        "    query: The query string to be embedded and searched.\n",
        "    top_k: The number of top results to return.\n",
        "    :return: The query responses from Pinecone.\n",
        "    \"\"\"\n",
        "    embedded = embedding_model.embed_query(query)\n",
        "\n",
        "    try:\n",
        "        # Query the Pinecone index\n",
        "        responses = index.query(\n",
        "            vector=embedded,\n",
        "            top_k=top_k,\n",
        "            include_metadata=True,\n",
        "        )\n",
        "    except Exception as e:\n",
        "        # Handle query errors\n",
        "        print(f\"Error during Pinecone query: {e}\")\n",
        "        return {}\n",
        "\n",
        "    return \"\\n\\n\".join([text.metadata[\"text\"] for text in responses[\"matches\"]])"
      ],
      "metadata": {
        "colab": {
          "base_uri": "https://localhost:8080/",
          "height": 174
        },
        "id": "gmXiS6bCbH2x",
        "outputId": "9cda52d6-7d27-4886-8b55-460ace6df68e"
      },
      "execution_count": null,
      "outputs": [
        {
          "output_type": "execute_result",
          "data": {
            "text/plain": [
              "'Written by Paul Graham\\n\\nFive Founders\\n\\nApril 2009\\n\\nInc recently asked me who I thought were the 5 most interesting startup founders of the last 30 years. How do you decide who\\'s the most interesting? The best test seemed to be influence: who are the 5 who\\'ve influenced me most? Who do I use as examples when I\\'m talking to companies we fund? Who do I find myself quoting?1. Steve JobsI\\'d guess Steve is the most influential founder not just for me but for most people you could ask. A lot of startup culture is Apple culture. He was the original young founder. And while the concept of \"insanely great\" already existed in the arts, it was a novel idea to introduce into a company in the 1980s. More remarkable still, he\\'s stayed interesting for 30 years. People await new Apple products the way they\\'d await new books by a popular novelist. Steve may not literally design them, but they wouldn\\'t happen if he weren\\'t CEO. Steve is clever and driven, but so are a lot of people in the Valley. What makes him unique is his sense of design. Before him, most companies treated design as a frivolous extra. Apple\\'s competitors now know better.2. TJ RodgersTJ Rodgers isn\\'t as famous as Steve Jobs, but he may be the best writer among Silicon Valley CEOs. I\\'ve probably learned more from him about the startup way of thinking than from anyone else.\\n\\nNot so much from specific things he\\'s written as by reconstructing the mind that produced them: brutally candid; aggressively garbage-collecting outdated ideas; and yet driven by pragmatism rather than ideology. The first essay of his that I read was so electrifying that I remember exactly where I was at the time. It was High Technology Innovation: Free Markets or Government Subsidies? and I was downstairs in the Harvard Square T Station. It felt as if someone had flipped on a light switch inside my head.3. Larry & SergeyI\\'m sorry to treat Larry and Sergey as one person. I\\'ve always thought that was unfair to them. But it does seem as if Google was a collaboration. Before Google, companies in Silicon Valley already knew it was important to have the best hackers. So they claimed, at least. But Google pushed this idea further than anyone had before. Their hypothesis seems to have been that, in the initial stages at least, all you need is good hackers: if you hire all the smartest people and put them to work on a problem where their success can be measured, you win. All the other stuff—which includes all the stuff that business schools think business consists of—you can figure out along the way. The results won\\'t be perfect, but they\\'ll be optimal. If this was their hypothesis, it\\'s now been verified experimentally.4. Paul BuchheitFew know this, but one person, Paul Buchheit, is responsible for three of the best things Google has done.\\n\\nWritten by Paul Graham\\n\\nWhat We Look for in Founders\\n\\nOctober 2010\\n\\nWant to start a startup? Get funded by Y Combinator. (I wrote this for Forbes, who asked me to write something about the qualities we look for in founders. In print they had to cut the last item because they didn\\'t have room.)1. DeterminationThis has turned out to be the most important quality in startup founders. We thought when we started Y Combinator that the most important quality would be intelligence. That\\'s the myth in the Valley. And certainly you don\\'t want founders to be stupid. But as long as you\\'re over a certain threshold of intelligence, what matters most is determination. You\\'re going to hit a lot of obstacles. You can\\'t be the sort of person who gets demoralized easily. Bill Clerico and Rich Aberman of WePay are a good example. They\\'re doing a finance startup, which means endless negotiations with big, bureaucratic companies. When you\\'re starting a startup that depends on deals with big companies to exist, it often feels like they\\'re trying to ignore you out of existence. But when Bill Clerico starts calling you, you may as well do what he asks, because he is not going away. 2. FlexibilityYou do not however want the sort of determination implied by phrases like \"don\\'t give up on your dreams.\" The world of startups is so unpredictable that you need to be able to modify your dreams on the fly. The best metaphor I\\'ve found for the combination of determination and flexibility you need is a running back.\\n\\nHe\\'s determined to get downfield, but at any given moment he may need to go sideways or even backwards to get there. The current record holder for flexibility may be Daniel Gross of Greplin. He applied to YC with some bad ecommerce idea. We told him we\\'d fund him if he did something else. He thought for a second, and said ok. He then went through two more ideas before settling on Greplin. He\\'d only been working on it for a couple days when he presented to investors at Demo Day, but he got a lot of interest. He always seems to land on his feet. 3. ImaginationIntelligence does matter a lot of course. It seems like the type that matters most is imagination. It\\'s not so important to be able to solve predefined problems quickly as to be able to come up with surprising new ideas. In the startup world, most good ideas seem bad initially. If they were obviously good, someone would already be doing them. So you need the kind of intelligence that produces ideas with just the right level of craziness. Airbnb is that kind of idea. In fact, when we funded Airbnb, we thought it was too crazy. We couldn\\'t believe large numbers of people would want to stay in other people\\'s places. We funded them because we liked the founders so much. As soon as we heard they\\'d been supporting themselves by selling Obama and McCain branded breakfast cereal, they were in. And it turned out the idea was on the right side of crazy after all. 4.\\n\\nHe was the original author of GMail, which is the most impressive thing Google has after search. He also wrote the first prototype of AdSense, and was the author of Google\\'s mantra \"Don\\'t be evil. \"PB made a point in a talk once that I now mention to every startup we fund: that it\\'s better, initially, to make a small number of users really love you than a large number kind of like you. If I could tell startups only ten sentences, this would be one of them. Now he\\'s cofounder of a startup called Friendfeed. It\\'s only a year old, but already everyone in the Valley is watching them. Someone responsible for three of the biggest ideas at Google is going to come up with more.5. Sam AltmanI was told I shouldn\\'t mention founders of YC-funded companies in this list. But Sam Altman can\\'t be stopped by such flimsy rules. If he wants to be on this list, he\\'s going to be. Honestly, Sam is, along with Steve Jobs, the founder I refer to most when I\\'m advising startups. On questions of design, I ask \"What would Steve do?\" but on questions of strategy or ambition I ask \"What would Sama do? \"What I learned from meeting Sama is that the doctrine of the elect applies to startups. It applies way less than most people think: startup investing does not consist of trying to pick winners the way you might in a horse race. But there are a few people with such force of will that they\\'re going to get whatever they want.\\n\\nWritten by Paul Graham\\n\\nStartups in 13 Sentences\\n\\nFebruary 2009\\n\\nWant to start a startup? Get funded by Y Combinator. Watch how this essay was written. One of the things I always tell startups is a principle I learned from Paul Buchheit: it\\'s better to make a few people really happy than to make a lot of people semi-happy. I was saying recently to a reporter that if I could only tell startups 10 things, this would be one of them. Then I thought: what would the other 9 be?When I made the list there turned out to be 13: 1. Pick good cofounders. Cofounders are for a startup what location is for real estate. You can change anything about a house except where it is. In a startup you can change your idea easily, but changing your cofounders is hard. [1] And the success of a startup is almost always a function of its founders.2. Launch fast. The reason to launch fast is not so much that it\\'s critical to get your product to market early, but that you haven\\'t really started working on it till you\\'ve launched. Launching teaches you what you should have been building. Till you know that you\\'re wasting your time. So the main value of whatever you launch with is as a pretext for engaging users.3. Let your idea evolve. This is the second half of launching fast. Launch fast and iterate. It\\'s a big mistake to treat a startup as if it were merely a matter of implementing some brilliant initial idea. As in an essay, most of the ideas appear in the implementing.4. Understand your users.\\n\\nYou can envision the wealth created by a startup as a rectangle, where one side is the number of users and the other is how much you improve their lives. [2] The second dimension is the one you have most control over. And indeed, the growth in the first will be driven by how well you do in the second. As in science, the hard part is not answering questions but asking them: the hard part is seeing something new that users lack. The better you understand them the better the odds of doing that. That\\'s why so many successful startups make something the founders needed.5. Better to make a few users love you than a lot ambivalent. Ideally you want to make large numbers of users love you, but you can\\'t expect to hit that right away. Initially you have to choose between satisfying all the needs of a subset of potential users, or satisfying a subset of the needs of all potential users. Take the first. It\\'s easier to expand userwise than satisfactionwise. And perhaps more importantly, it\\'s harder to lie to yourself. If you think you\\'re 85% of the way to a great product, how do you know it\\'s not 70%? Or 10%? Whereas it\\'s easy to know how many users you have.6. Offer surprisingly good customer service. Customers are used to being maltreated. Most of the companies they deal with are quasi-monopolies that get away with atrocious customer service. Your own ideas about what\\'s possible have been unconsciously lowered by such experiences.'"
            ],
            "application/vnd.google.colaboratory.intrinsic+json": {
              "type": "string"
            }
          },
          "metadata": {},
          "execution_count": 49
        }
      ]
    },
    {
      "cell_type": "code",
      "source": [
        "from langchain.prompts import PromptTemplate\n",
        "\n",
        "# Setting up prompt template which\n",
        "RETRIEVAL_TEMPLATE = \"\"\"Given content from Paul grahams essays, answer the question accordingly, \\\n",
        "if you cannot answer using the information below just say \"I don't know\".\n",
        "\n",
        "{summaries}\n",
        "\n",
        "Question: {question}\n",
        "Helpful Answer:\"\"\"\n",
        "\n",
        "RETRIEVAL_PROMPT = PromptTemplate(\n",
        "    template=RETRIEVAL_TEMPLATE, input_variables=[\"summaries\", \"question\"]\n",
        ")"
      ],
      "metadata": {
        "id": "fLk66VIJaSfU"
      },
      "execution_count": null,
      "outputs": []
    },
    {
      "cell_type": "code",
      "source": [
        "from langchain_community.chat_models import ChatOpenAI\n",
        "from langchain.chains.summarize import LLMChain\n",
        "\n",
        "llm = ChatOpenAI(\n",
        "        model=\"gpt-3.5-turbo\",\n",
        "        temperature=0,\n",
        "        openai_api_key=OPENAI_API_KEY,\n",
        "    )\n",
        "\n",
        "chain = LLMChain(llm=llm, prompt=RETRIEVAL_PROMPT, verbose=False)"
      ],
      "metadata": {
        "id": "o1cNenxZXf9a"
      },
      "execution_count": null,
      "outputs": []
    },
    {
      "cell_type": "code",
      "source": [
        "question = \"tell me the name of the five founders paul graham mentioned in his essays\"\n",
        "contents = query_pinecone(query=question, top_k=5)\n",
        "print(chain.run(question = question, summaries=contents))"
      ],
      "metadata": {
        "colab": {
          "base_uri": "https://localhost:8080/"
        },
        "id": "-qAIrxbndXq1",
        "outputId": "7de5c308-79bf-4eb7-c1a5-a00f9a19c35f"
      },
      "execution_count": null,
      "outputs": [
        {
          "output_type": "stream",
          "name": "stdout",
          "text": [
            "The five founders mentioned by Paul Graham in his essays are:\n",
            "1. Steve Jobs\n",
            "2. TJ Rodgers\n",
            "3. Larry & Sergey (co-founders of Google)\n",
            "4. Paul Buchheit\n",
            "5. Sam Altman\n"
          ]
        }
      ]
    },
    {
      "cell_type": "code",
      "source": [],
      "metadata": {
        "id": "M6RkCWLLd07M"
      },
      "execution_count": null,
      "outputs": []
    }
  ]
}